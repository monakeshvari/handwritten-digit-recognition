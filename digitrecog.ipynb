{
  "nbformat": 4,
  "nbformat_minor": 0,
  "metadata": {
    "colab": {
      "provenance": [],
      "collapsed_sections": [
        "5n3R9WvIaj1p",
        "RzPGwIPi3yHr",
        "5S5sK6f74K8J",
        "w2COSYC25cIf",
        "aprX7l9iEdmp",
        "tedhJ9m8GqAf",
        "jP9mcY5DFF_S",
        "UCVrnL26JHy0",
        "Cc-Pw0PlYLk8",
        "EjIaM-vsgPbJ",
        "QUAK0KfsH12i"
      ],
      "authorship_tag": "ABX9TyND/q5QzhNYCPfLjlLSJEI9",
      "include_colab_link": true
    },
    "kernelspec": {
      "name": "python3",
      "display_name": "Python 3"
    },
    "language_info": {
      "name": "python"
    }
  },
  "cells": [
    {
      "cell_type": "markdown",
      "metadata": {
        "id": "view-in-github",
        "colab_type": "text"
      },
      "source": [
        "<a href=\"https://colab.research.google.com/github/monakeshvari/handwritten-digit-recognition/blob/main/digitrecog.ipynb\" target=\"_parent\"><img src=\"https://colab.research.google.com/assets/colab-badge.svg\" alt=\"Open In Colab\"/></a>"
      ]
    },
    {
      "cell_type": "markdown",
      "source": [
        "# Project Summary"
      ],
      "metadata": {
        "id": "5n3R9WvIaj1p"
      }
    },
    {
      "cell_type": "markdown",
      "source": [
        "## Project Summary: Digit Recognition from Images\n",
        "\n",
        "### Overview\n",
        "\n",
        "The project demonstrated the process of recognizing handwritten digits using machine learning techniques. After exploring and preprocessing the data, multiple classifiers were trained and evaluated. Hyperparameter tuning was performed to optimize each classifier, and their performances were compared using cross-validation. The best-performing classifier was identified based on accuracy.\n",
        "\n",
        "\n",
        "\n",
        "### Code Execution Environment:\n",
        "This code is designed to run in a Google Colab environment. Ensure you have the required libraries installed or install them using `!pip install library_name`.\n",
        "\n",
        "\n",
        "\n",
        "\n",
        "### Libraries Used:\n",
        "- `sklearn`: For dataset, preprocessing, model selection, and evaluation.\n",
        "- `matplotlib`: For data visualization.\n",
        "- `pandas`: For data manipulation.\n",
        "\n",
        "\n",
        "\n",
        "\n",
        "### Steps:\n",
        "\n",
        "#### 1. Data Exploration\n",
        "- Loaded the dataset using `load_digits()` from `sklearn.datasets`.\n",
        "- Explored dataset information with `DESCR`, and checked the shapes of `data`, `target`, and `images`.\n",
        "- Visualized a sample image and its corresponding label using `matplotlib`.\n",
        "\n",
        "#### 2. Data Preprocessing\n",
        "##### Splitting Data\n",
        "- Split the dataset into training and testing sets using `train_test_split`.\n",
        "\n",
        "##### Feature Reduction (PCA)\n",
        "- Reduced the feature dimensions from 64 to 32 using `PCA`.\n",
        "\n",
        "##### Normalization\n",
        "- Scaled the features to a range of 0-1 using `MinMaxScaler`.\n",
        "\n",
        "#### 3. Model Selection\n",
        "Defined a function `create_estimators()` to create instances of multiple classifiers:\n",
        "- Decision Tree (`DT`)\n",
        "- Random Forest (`RF`)\n",
        "- Support Vector Machine (`SVM`)\n",
        "- K-Nearest Neighbors (`KNN`)\n",
        "- Artificial Neural Network (`ANN`)\n",
        "\n",
        "#### 4. Hyperparameter Tuning\n",
        "Implemented hyperparameter tuning using `GridSearchCV` for each classifier to find the best parameters.\n",
        "\n",
        "#### 5. Model Evaluation\n",
        "Evaluated the classifiers using 5-fold cross-validation and calculated:\n",
        "- Accuracy\n",
        "- Precision\n",
        "- Recall\n",
        "\n",
        "#### 6. Comparison of Classifiers\n",
        "Implemented `compare_estimators()` to:\n",
        "- Tune hyperparameters for each classifier\n",
        "- Evaluate each classifier\n",
        "- Compare classifiers based on accuracy\n",
        "\n",
        "#### 6. Predict testing set\n",
        "predict testing datas with best model and best parameters\n",
        "- Train best model with best hyperparameters\n",
        "- predict testing data\n",
        "- Calculate accuracy, precision and recall\n",
        "\n",
        "#### 7. Results\n",
        "Printed metrics for predicted test data and identified the best-performing model."
      ],
      "metadata": {
        "id": "rYBCmdPzYMKV"
      }
    },
    {
      "cell_type": "markdown",
      "source": [
        "# Import Libraries"
      ],
      "metadata": {
        "id": "RzPGwIPi3yHr"
      }
    },
    {
      "cell_type": "code",
      "execution_count": 191,
      "metadata": {
        "id": "OeSp-wXZ3bCF"
      },
      "outputs": [],
      "source": [
        "from sklearn.datasets import load_digits\n",
        "import matplotlib.pyplot as plt\n",
        "import pandas as pd\n",
        "\n",
        "from sklearn.model_selection import train_test_split, GridSearchCV, cross_val_score\n",
        "from sklearn.decomposition import PCA\n",
        "from sklearn.preprocessing import MinMaxScaler\n",
        "from sklearn.metrics import accuracy_score, precision_score, recall_score\n",
        "\n",
        "from sklearn.tree import DecisionTreeClassifier\n",
        "from sklearn.ensemble import RandomForestClassifier\n",
        "from sklearn.svm import SVC\n",
        "from sklearn.neighbors import KNeighborsClassifier\n",
        "from sklearn.neural_network import MLPClassifier"
      ]
    },
    {
      "cell_type": "markdown",
      "source": [
        "# Initialize the dataset"
      ],
      "metadata": {
        "id": "5S5sK6f74K8J"
      }
    },
    {
      "cell_type": "code",
      "source": [
        "digits = load_digits()"
      ],
      "metadata": {
        "id": "DJXW6Q6S4N35"
      },
      "execution_count": 192,
      "outputs": []
    },
    {
      "cell_type": "markdown",
      "source": [
        "# Analyze data"
      ],
      "metadata": {
        "id": "w2COSYC25cIf"
      }
    },
    {
      "cell_type": "code",
      "source": [
        "# describe of dataset\n",
        "print(digits.DESCR)"
      ],
      "metadata": {
        "colab": {
          "base_uri": "https://localhost:8080/"
        },
        "id": "wQqQ2D8Z5i61",
        "outputId": "d82e554e-8c58-4bd2-b2ec-698375c6e924"
      },
      "execution_count": 193,
      "outputs": [
        {
          "output_type": "stream",
          "name": "stdout",
          "text": [
            ".. _digits_dataset:\n",
            "\n",
            "Optical recognition of handwritten digits dataset\n",
            "--------------------------------------------------\n",
            "\n",
            "**Data Set Characteristics:**\n",
            "\n",
            "    :Number of Instances: 1797\n",
            "    :Number of Attributes: 64\n",
            "    :Attribute Information: 8x8 image of integer pixels in the range 0..16.\n",
            "    :Missing Attribute Values: None\n",
            "    :Creator: E. Alpaydin (alpaydin '@' boun.edu.tr)\n",
            "    :Date: July; 1998\n",
            "\n",
            "This is a copy of the test set of the UCI ML hand-written digits datasets\n",
            "https://archive.ics.uci.edu/ml/datasets/Optical+Recognition+of+Handwritten+Digits\n",
            "\n",
            "The data set contains images of hand-written digits: 10 classes where\n",
            "each class refers to a digit.\n",
            "\n",
            "Preprocessing programs made available by NIST were used to extract\n",
            "normalized bitmaps of handwritten digits from a preprinted form. From a\n",
            "total of 43 people, 30 contributed to the training set and different 13\n",
            "to the test set. 32x32 bitmaps are divided into nonoverlapping blocks of\n",
            "4x4 and the number of on pixels are counted in each block. This generates\n",
            "an input matrix of 8x8 where each element is an integer in the range\n",
            "0..16. This reduces dimensionality and gives invariance to small\n",
            "distortions.\n",
            "\n",
            "For info on NIST preprocessing routines, see M. D. Garris, J. L. Blue, G.\n",
            "T. Candela, D. L. Dimmick, J. Geist, P. J. Grother, S. A. Janet, and C.\n",
            "L. Wilson, NIST Form-Based Handprint Recognition System, NISTIR 5469,\n",
            "1994.\n",
            "\n",
            ".. topic:: References\n",
            "\n",
            "  - C. Kaynak (1995) Methods of Combining Multiple Classifiers and Their\n",
            "    Applications to Handwritten Digit Recognition, MSc Thesis, Institute of\n",
            "    Graduate Studies in Science and Engineering, Bogazici University.\n",
            "  - E. Alpaydin, C. Kaynak (1998) Cascading Classifiers, Kybernetika.\n",
            "  - Ken Tang and Ponnuthurai N. Suganthan and Xi Yao and A. Kai Qin.\n",
            "    Linear dimensionalityreduction using relevance weighted LDA. School of\n",
            "    Electrical and Electronic Engineering Nanyang Technological University.\n",
            "    2005.\n",
            "  - Claudio Gentile. A New Approximate Maximal Margin Classification\n",
            "    Algorithm. NIPS. 2000.\n",
            "\n"
          ]
        }
      ]
    },
    {
      "cell_type": "code",
      "source": [
        "digits.data.shape"
      ],
      "metadata": {
        "colab": {
          "base_uri": "https://localhost:8080/"
        },
        "id": "bw5-9Y2z78b5",
        "outputId": "cb701919-0996-4c2e-84d4-4685ae354760"
      },
      "execution_count": 194,
      "outputs": [
        {
          "output_type": "execute_result",
          "data": {
            "text/plain": [
              "(1797, 64)"
            ]
          },
          "metadata": {},
          "execution_count": 194
        }
      ]
    },
    {
      "cell_type": "code",
      "source": [
        "digits.target.shape"
      ],
      "metadata": {
        "colab": {
          "base_uri": "https://localhost:8080/"
        },
        "id": "YJO_jn008AjP",
        "outputId": "ad2aaf7a-2176-48b2-c84f-df9eaba3a33c"
      },
      "execution_count": 195,
      "outputs": [
        {
          "output_type": "execute_result",
          "data": {
            "text/plain": [
              "(1797,)"
            ]
          },
          "metadata": {},
          "execution_count": 195
        }
      ]
    },
    {
      "cell_type": "code",
      "source": [
        "digits.images.shape"
      ],
      "metadata": {
        "colab": {
          "base_uri": "https://localhost:8080/"
        },
        "id": "MphUBdZC8Inf",
        "outputId": "bb680a60-a217-44e1-85d9-175f6edfdf88"
      },
      "execution_count": 196,
      "outputs": [
        {
          "output_type": "execute_result",
          "data": {
            "text/plain": [
              "(1797, 8, 8)"
            ]
          },
          "metadata": {},
          "execution_count": 196
        }
      ]
    },
    {
      "cell_type": "markdown",
      "source": [
        "## Plot data\n",
        "\n",
        "\n",
        "1.   plot single data\n",
        "2.   plot multi data\n",
        "\n"
      ],
      "metadata": {
        "id": "aprX7l9iEdmp"
      }
    },
    {
      "cell_type": "code",
      "source": [
        "x = digits.images[500]\n",
        "\n",
        "print(digits.target[500])\n",
        "plt.gray()\n",
        "plt.imshow(x)\n",
        "plt.show()"
      ],
      "metadata": {
        "colab": {
          "base_uri": "https://localhost:8080/",
          "height": 0
        },
        "id": "Rrx2nQLmEYB7",
        "outputId": "e9c4e625-9552-4af1-a76d-28ef074f3c8a"
      },
      "execution_count": 197,
      "outputs": [
        {
          "output_type": "stream",
          "name": "stdout",
          "text": [
            "8\n"
          ]
        },
        {
          "output_type": "display_data",
          "data": {
            "text/plain": [
              "<Figure size 640x480 with 1 Axes>"
            ],
            "image/png": "[encoded data removed]"
          },
          "metadata": {}
        }
      ]
    },
    {
      "cell_type": "markdown",
      "source": [
        "###"
      ],
      "metadata": {
        "id": "D1dxhQP-EaA6"
      }
    },
    {
      "cell_type": "code",
      "source": [
        "# defining the function plot_multi\n",
        "\n",
        "def plot_multi(i):\n",
        "\tnplots = 10\n",
        "\tfig = plt.figure(figsize=(10, 10))\n",
        "\tfor j in range(nplots):\n",
        "\t\tplt.subplot(4, 4, j+1)\n",
        "\t\tplt.imshow(digits.images[i+j])\n",
        "\t\tplt.title(digits.target[i+j])\n",
        "\t\tplt.axis('off')\n",
        "\t# printing the each digits in the dataset.\n",
        "\tplt.show()\n",
        "\n",
        "plot_multi(0)\n"
      ],
      "metadata": {
        "colab": {
          "base_uri": "https://localhost:8080/",
          "height": 0
        },
        "id": "S-opx_oD8NsP",
        "outputId": "578f9a97-93d9-49e9-b99b-11e5669b70fa"
      },
      "execution_count": 198,
      "outputs": [
        {
          "output_type": "display_data",
          "data": {
            "text/plain": [
              "<Figure size 1000x1000 with 10 Axes>"
            ],
            "image/png": "[encoded data removed]"
          },
          "metadata": {}
        }
      ]
    },
    {
      "cell_type": "markdown",
      "source": [
        "# Preprocessing"
      ],
      "metadata": {
        "id": "c7y2cURqFMCa"
      }
    },
    {
      "cell_type": "markdown",
      "source": [
        "## Split data\n",
        "\n",
        "\n",
        "\n",
        "*   split data to train and test sets\n",
        "\n",
        "\n"
      ],
      "metadata": {
        "id": "tedhJ9m8GqAf"
      }
    },
    {
      "cell_type": "code",
      "source": [
        "X_train, X_test, y_train, y_test = train_test_split(digits.data, digits.target)"
      ],
      "metadata": {
        "id": "C9u7nddvGsXX"
      },
      "execution_count": 199,
      "outputs": []
    },
    {
      "cell_type": "code",
      "source": [
        "print(f\"Feature => train : {X_train.shape} - test : {X_test.shape}\")\n",
        "print(f\"Label => train : {y_train.shape} - test : {y_test.shape}\")"
      ],
      "metadata": {
        "colab": {
          "base_uri": "https://localhost:8080/"
        },
        "id": "-fn_LkOQHNGU",
        "outputId": "43a0117d-6ed2-421c-cfb4-5549673dbb46"
      },
      "execution_count": 200,
      "outputs": [
        {
          "output_type": "stream",
          "name": "stdout",
          "text": [
            "Feature => train : (1347, 64) - test : (450, 64)\n",
            "Label => train : (1347,) - test : (450,)\n"
          ]
        }
      ]
    },
    {
      "cell_type": "markdown",
      "source": [
        "## PCA\n",
        "\n",
        "*   #### Features reduction from 64 dimensions to 32 dimensions"
      ],
      "metadata": {
        "id": "jP9mcY5DFF_S"
      }
    },
    {
      "cell_type": "code",
      "source": [
        "pca = PCA(n_components=32)\n",
        "X_train = pca.fit_transform(X_train)\n",
        "X_test = pca.transform(X_test)"
      ],
      "metadata": {
        "id": "p3m9sG4EFH-J"
      },
      "execution_count": 201,
      "outputs": []
    },
    {
      "cell_type": "code",
      "source": [
        "print(f\"PCA RESULT => X_train : {X_train.shape} - X_test : {X_test.shape}\")"
      ],
      "metadata": {
        "colab": {
          "base_uri": "https://localhost:8080/"
        },
        "id": "J7Xyj2ERIrs6",
        "outputId": "79a2f771-84d4-434c-8707-edafc59f7261"
      },
      "execution_count": 202,
      "outputs": [
        {
          "output_type": "stream",
          "name": "stdout",
          "text": [
            "PCA RESULT => X_train : (1347, 32) - X_test : (450, 32)\n"
          ]
        }
      ]
    },
    {
      "cell_type": "markdown",
      "source": [
        "## Normalization\n",
        "\n",
        "\n",
        "\n",
        "*   ### scaling the features in range 0,1\n",
        "\n"
      ],
      "metadata": {
        "id": "UCVrnL26JHy0"
      }
    },
    {
      "cell_type": "code",
      "source": [
        "X_train[0]\n",
        "\n",
        "# before scaling : datas aren't in range(0, 1)"
      ],
      "metadata": {
        "colab": {
          "base_uri": "https://localhost:8080/"
        },
        "id": "2zoXSni-JU5H",
        "outputId": "a20d2852-9ccd-43ff-c13a-9db756c80fc9"
      },
      "execution_count": 203,
      "outputs": [
        {
          "output_type": "execute_result",
          "data": {
            "text/plain": [
              "array([ 10.29582468,  10.18098635,  -2.6951708 ,  -2.63353857,\n",
              "         4.36880789,  -0.42999731, -12.28926368,  -7.36400531,\n",
              "        -1.38427787,   6.20236205,  -5.3732381 ,  -6.42271482,\n",
              "        -4.84370175,   4.6653217 ,   0.24048913,  -0.07153821,\n",
              "         9.0333657 ,  -6.40709457,   4.45257086,  -3.94247671,\n",
              "        -3.41779983,  -0.32475683,  -0.34790379,   1.807777  ,\n",
              "        -0.41071402,  -2.31098769,  -3.60670244,   3.55603389,\n",
              "        -2.43149684,   3.84851887,   2.34396121,   0.56620265])"
            ]
          },
          "metadata": {},
          "execution_count": 203
        }
      ]
    },
    {
      "cell_type": "code",
      "source": [
        "scaler = MinMaxScaler(feature_range=(0, 1))\n",
        "X_train = scaler.fit_transform(X_train)\n",
        "X_test = scaler.transform(X_test)"
      ],
      "metadata": {
        "id": "_eCW2JcfJedn"
      },
      "execution_count": 204,
      "outputs": []
    },
    {
      "cell_type": "code",
      "source": [
        "X_train[0]\n",
        "\n",
        "# after scaling : datas are in range(0, 1)"
      ],
      "metadata": {
        "colab": {
          "base_uri": "https://localhost:8080/"
        },
        "id": "Ya5xl4g7J8dO",
        "outputId": "0a4ad84b-9536-4306-aa6c-1e702f19aed2"
      },
      "execution_count": 205,
      "outputs": [
        {
          "output_type": "execute_result",
          "data": {
            "text/plain": [
              "array([0.64999806, 0.65391643, 0.42692707, 0.42110648, 0.55428896,\n",
              "       0.44771482, 0.21832898, 0.28776097, 0.43408897, 0.6649299 ,\n",
              "       0.22538442, 0.29665186, 0.34729463, 0.63712182, 0.45588638,\n",
              "       0.40652761, 0.74373535, 0.24986134, 0.62872274, 0.2946531 ,\n",
              "       0.32758485, 0.41240208, 0.4377542 , 0.55380066, 0.47077382,\n",
              "       0.34575169, 0.25306964, 0.7217042 , 0.27837951, 0.7619779 ,\n",
              "       0.64413852, 0.45427695])"
            ]
          },
          "metadata": {},
          "execution_count": 205
        }
      ]
    },
    {
      "cell_type": "markdown",
      "source": [
        "# Create Models Function\n",
        "\n",
        "\n",
        "\n",
        "*   Create a dictionary of classifier models\n",
        "*   Return : Dictionary of classifiers\n",
        "\n"
      ],
      "metadata": {
        "id": "Cc-Pw0PlYLk8"
      }
    },
    {
      "cell_type": "code",
      "source": [
        "def create_estimators():\n",
        "  estimators = {\n",
        "      'DT' : DecisionTreeClassifier(),\n",
        "      'RF' : RandomForestClassifier(),\n",
        "      'SVM' : SVC(),\n",
        "      'KNN' : KNeighborsClassifier(),\n",
        "      'ANN' : MLPClassifier()\n",
        "  }\n",
        "  return estimators\n"
      ],
      "metadata": {
        "id": "8Sdo9DECYZ2b"
      },
      "execution_count": 206,
      "outputs": []
    },
    {
      "cell_type": "code",
      "source": [
        "estimators = create_estimators()"
      ],
      "metadata": {
        "id": "26jBhU7HGmu9"
      },
      "execution_count": 207,
      "outputs": []
    },
    {
      "cell_type": "code",
      "source": [
        "estimators"
      ],
      "metadata": {
        "colab": {
          "base_uri": "https://localhost:8080/"
        },
        "id": "WpQRZYMSaYHO",
        "outputId": "042585c5-9e63-4802-fd72-93a9170036c5"
      },
      "execution_count": 208,
      "outputs": [
        {
          "output_type": "execute_result",
          "data": {
            "text/plain": [
              "{'DT': DecisionTreeClassifier(),\n",
              " 'RF': RandomForestClassifier(),\n",
              " 'SVM': SVC(),\n",
              " 'KNN': KNeighborsClassifier(),\n",
              " 'ANN': MLPClassifier()}"
            ]
          },
          "metadata": {},
          "execution_count": 208
        }
      ]
    },
    {
      "cell_type": "markdown",
      "source": [
        "# Hyperparameters Tuning Function"
      ],
      "metadata": {
        "id": "oBOHDAN-b9bC"
      }
    },
    {
      "cell_type": "markdown",
      "source": [
        "## Get param grid Function\n",
        "\n",
        "* Get parameter grid for hyperparameter tuning based on classifier name.\n",
        "    Args:  \n",
        "      name: Name of the classifier\n",
        "    Returns:  \n",
        "      dict: Parameter grid for hyperparameter tuning"
      ],
      "metadata": {
        "id": "EjIaM-vsgPbJ"
      }
    },
    {
      "cell_type": "code",
      "source": [
        "def get_param_grid(name):\n",
        "    param_grids = {\n",
        "        'DT': {'max_depth': [None, 32, 64, 128], 'min_samples_split': [2, 4, 8], 'min_samples_leaf': [1, 2, 4], 'criterion': ['gini', 'entropy']},\n",
        "        'RF': {'n_estimators': [100, 200, 300, 500], 'max_depth': [None, 16, 32, 64], 'min_samples_split': [2, 4, 8], 'min_samples_leaf': [1, 2, 4]},\n",
        "        'SVM': {'kernel': ['linear', 'poly', 'rbf'], 'C': [0.1, 1, 10], 'gamma': ['scale', 'auto']},\n",
        "        'KNN': {'n_neighbors': [5, 8, 10, 12], 'algorithm': ['kd_tree', 'ball_tree', 'brute'], 'leaf_size': [20, 28, 36]},\n",
        "        'ANN': {'hidden_layer_sizes': [(128,), (256,), (512,), (256, 128,), (512, 256,)], 'activation': ['relu', 'tanh'], 'solver': ['adam'], 'learning_rate_init': [0.001, 0.01]}\n",
        "    }\n",
        "\n",
        "    return param_grids.get(name, {})\n",
        "\n"
      ],
      "metadata": {
        "id": "xPOFj0RLgSng"
      },
      "execution_count": 209,
      "outputs": []
    },
    {
      "cell_type": "markdown",
      "source": [
        "## Tune hyperparameters Function\n",
        "\n",
        "* Tune hyperparameters using GridSearchCV\n",
        "\n",
        "    Args:\n",
        "            estimators: Classifier instance\n",
        "            param_grid: Dictionary of hyperparameters to tune\n",
        "            \n",
        "    Returns:\n",
        "            best_estimator: Best estimator after hyperparameter tuning"
      ],
      "metadata": {
        "id": "QUAK0KfsH12i"
      }
    },
    {
      "cell_type": "code",
      "source": [
        "def tune_hyperparameters(estimators, param_grid, cv=3):\n",
        "\n",
        "  grid_search = GridSearchCV(estimators, param_grid, cv=cv, scoring='accuracy', verbose=1, n_jobs=-1)\n",
        "  grid_search.fit(X_train, y_train)\n",
        "\n",
        "  best_estimator = grid_search.best_estimator_\n",
        "  best_params = grid_search.best_params_\n",
        "\n",
        "  print(f\"Best parameters for {estimators.__class__.__name__}: {best_params}\")\n",
        "\n",
        "\n",
        "  return best_estimator\n"
      ],
      "metadata": {
        "id": "oYnHfa99cIYr"
      },
      "execution_count": 210,
      "outputs": []
    },
    {
      "cell_type": "markdown",
      "source": [
        "# Evaluate Models\n",
        "\n",
        "* Evaluate classifier using cross-validation.\n",
        "        \n",
        "    Args:\n",
        "        clf: Estimator instance\n",
        "        cv: Number of cross-validation folds\n",
        "        \n",
        "    Returns:\n",
        "        dict: Dictionary of evaluation metrics"
      ],
      "metadata": {
        "id": "USf3ZcrGeaEN"
      }
    },
    {
      "cell_type": "code",
      "source": [
        "def evaluate_estimators(estimator, cv=5):\n",
        "    acc_scores = cross_val_score(estimator, X_train, y_train, cv=cv, scoring='accuracy')\n",
        "    precision_scores = cross_val_score(estimator, X_train, y_train, cv=cv, scoring='precision_macro')\n",
        "    recall_scores = cross_val_score(estimator, X_train, y_train, cv=cv, scoring='recall_macro')\n",
        "\n",
        "\n",
        "    return {\n",
        "        'Accuracy': acc_scores.mean(),\n",
        "        'Accuracy std': acc_scores.std(),\n",
        "        'Precision': precision_scores.mean(),\n",
        "        'Precision std': precision_scores.std(),\n",
        "        'Recall': recall_scores.mean(),\n",
        "        'Recall std': recall_scores.std()\n",
        "    }"
      ],
      "metadata": {
        "id": "-rr8hDYKec6c"
      },
      "execution_count": 211,
      "outputs": []
    },
    {
      "cell_type": "markdown",
      "source": [
        "# Compare Estimators\n",
        "\n",
        "* Compare different classifiers by tuning hyperparameters and evaluating with cross-validation.\n",
        "        \n",
        "    Returns:\n",
        "      dict: Dictionary of evaluation metrics for each classifier"
      ],
      "metadata": {
        "id": "T9Ilu6j1iEHc"
      }
    },
    {
      "cell_type": "code",
      "source": [
        "\n",
        "def compare_estimators(estimators, cv=3):\n",
        "    evaluation_metrics = {}\n",
        "\n",
        "    for name, estimator in estimators.items():\n",
        "        print(f\"Evaluation results for {estimator.__class__.__name__}:\")\n",
        "        print(f\"Tuning hyperparameters for {name}:\")\n",
        "        best_estimator = tune_hyperparameters(estimator, get_param_grid(name), cv=cv)\n",
        "\n",
        "        metrics = evaluate_estimators(best_estimator, cv=cv)\n",
        "        evaluation_metrics[name] = metrics\n",
        "        print(100 *'=')\n",
        "\n",
        "    return evaluation_metrics"
      ],
      "metadata": {
        "id": "dLqOSEFpiHhD"
      },
      "execution_count": 212,
      "outputs": []
    },
    {
      "cell_type": "code",
      "source": [
        "estimators = create_estimators()\n",
        "evaluation_metrics = compare_estimators(estimators)\n",
        "\n",
        "# Print evaluation metrics\n",
        "for name, metrics in evaluation_metrics.items():\n",
        "        print(f\"Evaluation metrics for {name}:\")\n",
        "        for metric, value in metrics.items():\n",
        "            print(f\"{metric}: {value:.4f}\")\n",
        "        print(100 *'=')"
      ],
      "metadata": {
        "colab": {
          "base_uri": "https://localhost:8080/"
        },
        "id": "61Pk1BZIliZE",
        "outputId": "88c0ee8c-e481-46f5-e0a9-2f289ebaa549"
      },
      "execution_count": 213,
      "outputs": [
        {
          "output_type": "stream",
          "name": "stdout",
          "text": [
            "Evaluation results for DecisionTreeClassifier:\n",
            "Tuning hyperparameters for DT:\n",
            "Fitting 3 folds for each of 72 candidates, totalling 216 fits\n",
            "Best parameters for DecisionTreeClassifier: {'criterion': 'entropy', 'max_depth': 64, 'min_samples_leaf': 1, 'min_samples_split': 4}\n",
            "====================================================================================================\n",
            "Evaluation results for RandomForestClassifier:\n",
            "Tuning hyperparameters for RF:\n",
            "Fitting 3 folds for each of 144 candidates, totalling 432 fits\n",
            "Best parameters for RandomForestClassifier: {'max_depth': 16, 'min_samples_leaf': 1, 'min_samples_split': 2, 'n_estimators': 500}\n",
            "====================================================================================================\n",
            "Evaluation results for SVC:\n",
            "Tuning hyperparameters for SVM:\n",
            "Fitting 3 folds for each of 18 candidates, totalling 54 fits\n",
            "Best parameters for SVC: {'C': 10, 'gamma': 'scale', 'kernel': 'rbf'}\n",
            "====================================================================================================\n",
            "Evaluation results for KNeighborsClassifier:\n",
            "Tuning hyperparameters for KNN:\n",
            "Fitting 3 folds for each of 36 candidates, totalling 108 fits\n",
            "Best parameters for KNeighborsClassifier: {'algorithm': 'kd_tree', 'leaf_size': 20, 'n_neighbors': 5}\n",
            "====================================================================================================\n",
            "Evaluation results for MLPClassifier:\n",
            "Tuning hyperparameters for ANN:\n",
            "Fitting 3 folds for each of 20 candidates, totalling 60 fits\n",
            "Best parameters for MLPClassifier: {'activation': 'tanh', 'hidden_layer_sizes': (256, 128), 'learning_rate_init': 0.01, 'solver': 'adam'}\n",
            "====================================================================================================\n",
            "Evaluation metrics for DT:\n",
            "Accuracy: 0.8270\n",
            "Accuracy std: 0.0028\n",
            "Precision: 0.8338\n",
            "Precision std: 0.0045\n",
            "Recall: 0.8275\n",
            "Recall std: 0.0046\n",
            "====================================================================================================\n",
            "Evaluation metrics for RF:\n",
            "Accuracy: 0.9599\n",
            "Accuracy std: 0.0144\n",
            "Precision: 0.9653\n",
            "Precision std: 0.0155\n",
            "Recall: 0.9603\n",
            "Recall std: 0.0182\n",
            "====================================================================================================\n",
            "Evaluation metrics for SVM:\n",
            "Accuracy: 0.9829\n",
            "Accuracy std: 0.0082\n",
            "Precision: 0.9833\n",
            "Precision std: 0.0077\n",
            "Recall: 0.9828\n",
            "Recall std: 0.0084\n",
            "====================================================================================================\n",
            "Evaluation metrics for KNN:\n",
            "Accuracy: 0.9577\n",
            "Accuracy std: 0.0091\n",
            "Precision: 0.9597\n",
            "Precision std: 0.0086\n",
            "Recall: 0.9574\n",
            "Recall std: 0.0097\n",
            "====================================================================================================\n",
            "Evaluation metrics for ANN:\n",
            "Accuracy: 0.9540\n",
            "Accuracy std: 0.0090\n",
            "Precision: 0.9568\n",
            "Precision std: 0.0062\n",
            "Recall: 0.9406\n",
            "Recall std: 0.0143\n",
            "====================================================================================================\n"
          ]
        }
      ]
    },
    {
      "cell_type": "markdown",
      "source": [
        "# Plotting evaluation metrics"
      ],
      "metadata": {
        "id": "7jMTQdmGxV6O"
      }
    },
    {
      "cell_type": "code",
      "source": [
        "\n",
        "# Plotting evaluation metrics\n",
        "titles = ['Accuracy', 'Accuracy std', 'Precision', 'Precision std', 'Recall', 'Recall std']\n",
        "colors = ['black', 'red', 'yellow', 'orange', 'green', 'blue']\n",
        "\n",
        "# Create subplots\n",
        "fig, axs = plt.subplots(3, 2, figsize=(10, 15))\n",
        "\n",
        "# Flatten the axis array for iteration\n",
        "axs = axs.flatten()\n",
        "\n",
        "for i, metric in enumerate(titles):\n",
        "    values = [metrics[metric] for metrics in evaluation_metrics.values()]\n",
        "\n",
        "    # Plot each bar chart\n",
        "    axs[i].bar(evaluation_metrics.keys(), values, color=colors[i])\n",
        "    axs[i].set_title(f\"{metric} Comparison\")\n",
        "    axs[i].set_xlabel(\"Classifier\")\n",
        "    axs[i].set_ylabel(metric)\n",
        "    axs[i].grid(axis='y')\n",
        "\n",
        "plt.tight_layout()\n",
        "plt.show()\n"
      ],
      "metadata": {
        "colab": {
          "base_uri": "https://localhost:8080/",
          "height": 1000
        },
        "id": "jRfWgd9-xS9z",
        "outputId": "dff536db-62ff-48a2-f069-a8b6951173ce"
      },
      "execution_count": 219,
      "outputs": [
        {
          "output_type": "display_data",
          "data": {
            "text/plain": [
              "<Figure size 1000x1500 with 6 Axes>"
            ],
            "image/png": "[encoded data removed]"
          },
          "metadata": {}
        }
      ]
    },
    {
      "cell_type": "markdown",
      "source": [
        "# Predict test data\n",
        "\n",
        "* Train svm model\n",
        "* Predict test data\n",
        "* evaluate model on test data"
      ],
      "metadata": {
        "id": "7RyQenHJx1vq"
      }
    },
    {
      "cell_type": "code",
      "source": [
        "# best model = svm\n",
        "# best parameters = {'C': 10, 'gamma': 'scale', 'kernel': 'rbf'}\n",
        "\n",
        "svm = SVC(C=10, gamma='scale', kernel='rbf')\n",
        "svm.fit(X_train, y_train)"
      ],
      "metadata": {
        "colab": {
          "base_uri": "https://localhost:8080/",
          "height": 74
        },
        "id": "NHCoDEHqx1Y5",
        "outputId": "947380c5-edbf-4c9c-a945-cf1a7f61c8c7"
      },
      "execution_count": 215,
      "outputs": [
        {
          "output_type": "execute_result",
          "data": {
            "text/plain": [
              "SVC(C=10)"
            ],
            "text/html": [
              "<style>#sk-container-id-3 {color: black;background-color: white;}#sk-container-id-3 pre{padding: 0;}#sk-container-id-3 div.sk-toggleable {background-color: white;}#sk-container-id-3 label.sk-toggleable__label {cursor: pointer;display: block;width: 100%;margin-bottom: 0;padding: 0.3em;box-sizing: border-box;text-align: center;}#sk-container-id-3 label.sk-toggleable__label-arrow:before {content: \"▸\";float: left;margin-right: 0.25em;color: #696969;}#sk-container-id-3 label.sk-toggleable__label-arrow:hover:before {color: black;}#sk-container-id-3 div.sk-estimator:hover label.sk-toggleable__label-arrow:before {color: black;}#sk-container-id-3 div.sk-toggleable__content {max-height: 0;max-width: 0;overflow: hidden;text-align: left;background-color: #f0f8ff;}#sk-container-id-3 div.sk-toggleable__content pre {margin: 0.2em;color: black;border-radius: 0.25em;background-color: #f0f8ff;}#sk-container-id-3 input.sk-toggleable__control:checked~div.sk-toggleable__content {max-height: 200px;max-width: 100%;overflow: auto;}#sk-container-id-3 input.sk-toggleable__control:checked~label.sk-toggleable__label-arrow:before {content: \"▾\";}#sk-container-id-3 div.sk-estimator input.sk-toggleable__control:checked~label.sk-toggleable__label {background-color: #d4ebff;}#sk-container-id-3 div.sk-label input.sk-toggleable__control:checked~label.sk-toggleable__label {background-color: #d4ebff;}#sk-container-id-3 input.sk-hidden--visually {border: 0;clip: rect(1px 1px 1px 1px);clip: rect(1px, 1px, 1px, 1px);height: 1px;margin: -1px;overflow: hidden;padding: 0;position: absolute;width: 1px;}#sk-container-id-3 div.sk-estimator {font-family: monospace;background-color: #f0f8ff;border: 1px dotted black;border-radius: 0.25em;box-sizing: border-box;margin-bottom: 0.5em;}#sk-container-id-3 div.sk-estimator:hover {background-color: #d4ebff;}#sk-container-id-3 div.sk-parallel-item::after {content: \"\";width: 100%;border-bottom: 1px solid gray;flex-grow: 1;}#sk-container-id-3 div.sk-label:hover label.sk-toggleable__label {background-color: #d4ebff;}#sk-container-id-3 div.sk-serial::before {content: \"\";position: absolute;border-left: 1px solid gray;box-sizing: border-box;top: 0;bottom: 0;left: 50%;z-index: 0;}#sk-container-id-3 div.sk-serial {display: flex;flex-direction: column;align-items: center;background-color: white;padding-right: 0.2em;padding-left: 0.2em;position: relative;}#sk-container-id-3 div.sk-item {position: relative;z-index: 1;}#sk-container-id-3 div.sk-parallel {display: flex;align-items: stretch;justify-content: center;background-color: white;position: relative;}#sk-container-id-3 div.sk-item::before, #sk-container-id-3 div.sk-parallel-item::before {content: \"\";position: absolute;border-left: 1px solid gray;box-sizing: border-box;top: 0;bottom: 0;left: 50%;z-index: -1;}#sk-container-id-3 div.sk-parallel-item {display: flex;flex-direction: column;z-index: 1;position: relative;background-color: white;}#sk-container-id-3 div.sk-parallel-item:first-child::after {align-self: flex-end;width: 50%;}#sk-container-id-3 div.sk-parallel-item:last-child::after {align-self: flex-start;width: 50%;}#sk-container-id-3 div.sk-parallel-item:only-child::after {width: 0;}#sk-container-id-3 div.sk-dashed-wrapped {border: 1px dashed gray;margin: 0 0.4em 0.5em 0.4em;box-sizing: border-box;padding-bottom: 0.4em;background-color: white;}#sk-container-id-3 div.sk-label label {font-family: monospace;font-weight: bold;display: inline-block;line-height: 1.2em;}#sk-container-id-3 div.sk-label-container {text-align: center;}#sk-container-id-3 div.sk-container {/* jupyter's `normalize.less` sets `[hidden] { display: none; }` but bootstrap.min.css set `[hidden] { display: none !important; }` so we also need the `!important` here to be able to override the default hidden behavior on the sphinx rendered scikit-learn.org. See: https://github.com/scikit-learn/scikit-learn/issues/21755 */display: inline-block !important;position: relative;}#sk-container-id-3 div.sk-text-repr-fallback {display: none;}</style><div id=\"sk-container-id-3\" class=\"sk-top-container\"><div class=\"sk-text-repr-fallback\"><pre>SVC(C=10)</pre><b>In a Jupyter environment, please rerun this cell to show the HTML representation or trust the notebook. <br />On GitHub, the HTML representation is unable to render, please try loading this page with nbviewer.org.</b></div><div class=\"sk-container\" hidden><div class=\"sk-item\"><div class=\"sk-estimator sk-toggleable\"><input class=\"sk-toggleable__control sk-hidden--visually\" id=\"sk-estimator-id-3\" type=\"checkbox\" checked><label for=\"sk-estimator-id-3\" class=\"sk-toggleable__label sk-toggleable__label-arrow\">SVC</label><div class=\"sk-toggleable__content\"><pre>SVC(C=10)</pre></div></div></div></div></div>"
            ]
          },
          "metadata": {},
          "execution_count": 215
        }
      ]
    },
    {
      "cell_type": "code",
      "source": [
        "y_pred_train = svm.predict(X_train)\n",
        "y_pred_test = svm.predict(X_test)"
      ],
      "metadata": {
        "id": "Ya3EPXZ2ypoH"
      },
      "execution_count": 216,
      "outputs": []
    },
    {
      "cell_type": "code",
      "source": [
        "acc_train = accuracy_score(y_train, y_pred_train)\n",
        "acc_test = accuracy_score(y_test, y_pred_test)\n",
        "\n",
        "precision = precision_score(y_test, y_pred_test, average='weighted')\n",
        "recall = recall_score(y_test, y_pred_test, average='weighted')"
      ],
      "metadata": {
        "id": "iHbodNr6y7w-"
      },
      "execution_count": 217,
      "outputs": []
    },
    {
      "cell_type": "code",
      "source": [
        "print(f\"acc-train:{acc_train:.4f} - acc-test:{acc_test:.4f} - precision:{precision:.4f} - recall:{recall:.4f}\")"
      ],
      "metadata": {
        "colab": {
          "base_uri": "https://localhost:8080/"
        },
        "id": "M-VRijzO0JvE",
        "outputId": "3f2220d8-dc60-4630-bca4-6e8d9e158b55"
      },
      "execution_count": 218,
      "outputs": [
        {
          "output_type": "stream",
          "name": "stdout",
          "text": [
            "acc-train:1.0000 - acc-test:0.9867 - precision:0.9869 - recall:0.9867\n"
          ]
        }
      ]
    }
  ]
}